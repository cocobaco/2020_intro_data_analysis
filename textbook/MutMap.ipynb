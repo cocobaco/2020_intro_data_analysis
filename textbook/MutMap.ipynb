{
  "nbformat": 4,
  "nbformat_minor": 0,
  "metadata": {
    "colab": {
      "provenance": [],
      "toc_visible": true
    },
    "kernelspec": {
      "name": "python3",
      "display_name": "Python 3"
    }
  },
  "cells": [
    {
      "cell_type": "markdown",
      "metadata": {
        "id": "vFnKcfhjYcjf"
      },
      "source": [
        "<img src=\"https://github.com/slt666666/FAO_lecture/blob/main/FAO_2024/title.png?raw=true\" alt=\"title\" height=\"250px\">\n"
      ]
    },
    {
      "cell_type": "markdown",
      "metadata": {
        "id": "31NfnQcvPDoY"
      },
      "source": [
        "# MutMap - practice session -\n",
        "\n",
        "In this session,\n",
        "\n",
        "At first, we will experience **basic analysis of NGS(Next generation sequencing) data** for the identification of genetic variants.\n",
        "\n",
        "Then, we will perform **MutMap analysis** using simulation data & published data.\n",
        "\n",
        "Through this session, it may help you to understand ...\n",
        "* How to identify genetic variants associated with traits\n",
        "* The process of MutMap analysis\n",
        "* How to interpret the results of MutMap\n",
        "* What kind of data is required for MutMap"
      ]
    },
    {
      "cell_type": "markdown",
      "source": [
        "## The contents in this notebook ...\n",
        "\n",
        "* Basic analysis for the identification of genetic variants\n",
        "  * Read alignment & visualization\n",
        "  * SNP calling\n",
        "  * Simple example of genetic variants\n",
        "\n",
        "* Mutmap analysis\n",
        "  * Limitations of basic analysis\n",
        "  * MutMap analysis using simulation data (Step by Step)\n",
        "  * Review of MutMap\n",
        "  * MutMap analysis using real data"
      ],
      "metadata": {
        "id": "wZpUAKrgmHnm"
      }
    },
    {
      "cell_type": "markdown",
      "source": [
        "# Main contents"
      ],
      "metadata": {
        "id": "pYgp_cqzl-pM"
      }
    },
    {
      "cell_type": "markdown",
      "source": [
        "## **Basic knowledge of sequencing analysis for the identification of genetic variants**\n",
        "\n",
        "Before move to Mut-Map analysis, we'll introduce basic knowledge of sequencing analysis.\n",
        "\n",
        "To practice basic analysis, we will consider below situation.\n",
        "\n",
        "<img src=\"https://github.com/slt666666/FAO_lecture/blob/main/FAO_2024/Basic_1.png?raw=true\" alt=\"title\" height=\"200px\">\n",
        "<br>\n",
        "<br>\n",
        "\n",
        "**And we want to know \"what genetic factor (genetic mutation) affect the leaf color?\"**\n",
        "\n",
        "To identify causal mutation, we have to investigate \"which genomic region was mutated ?\"\n",
        "\n",
        "To investigate the mutated genomic region, we have to compare genome sequences of 2 cultivars.\n",
        "\n",
        "<br>\n",
        "<img src=\"https://github.com/slt666666/FAO_lecture/blob/main/FAO_2024/Basic_2.png?raw=true\" alt=\"title\" height=\"160px\">"
      ],
      "metadata": {
        "id": "2SPMDuwGw1DV"
      }
    },
    {
      "cell_type": "markdown",
      "source": [
        "### **NGS (Next generation sequencing) data**\n",
        "\n",
        "To comapre genome sequences, we have to get sequece data of Cultivar A and mutated cultivar.\n",
        "\n",
        "Basically, genome sequences of representative crops, plants, and organisms are available as **referemce genome**.\n",
        "\n",
        "The reference genome was available in [Phytozome](https://phytozome-next.jgi.doe.gov/), [Ensembl database](https://plants.ensembl.org/index.html), and [NCBI database](https://www.ncbi.nlm.nih.gov/genome/)...etc.\n",
        "\n",
        "Therefore, we just need to examine the sequence of the mutated cultivar.\n",
        "\n",
        "`※If you plan to study very minor crops or special cultivars, you have to make reference genome by your own or check genetic variant of your cultivar first.`\n",
        "\n",
        "In our situation, to simplify the analysis, we suppose that the reference genome of Cultivar A is available.\n",
        "\n",
        "We can identify mutated genomic regions by...\n",
        "1. read genome sequeces of the mutated cultivar.\n",
        "2. compare genome sequences with reference genome.\n",
        "\n",
        "<img src=\"https://github.com/slt666666/FAO_lecture/blob/main/FAO_2024/Basic_3.png?raw=true\" alt=\"title\" height=\"240px\">\n",
        "<br>\n",
        "<br>\n",
        "\n",
        "However, we can't get genome sequences of whole chromosome directly in the current technology.\n",
        "\n",
        "**Short-read sequencing** is currently the most commonly used form of next-generation sequencing (NGS).\n",
        "\n",
        "We can get DNA sequences of a lot of short reads (100~300bp).\n",
        "\n",
        "<img src=\"https://github.com/slt666666/FAO_lecture/blob/main/FAO_2024/Basic_4.png?raw=true\" alt=\"title\" height=\"270px\">\n",
        "<br>\n",
        "<br>\n",
        "\n",
        "Therefore, we have to **compare the reference genome with a lot of short reads** to identify causal mutated genomic region.\n",
        "\n",
        "#### **Alignment**\n",
        "\n",
        "To compare the reference genome with short reads, the first approach is the **short read alignment**.\n",
        "\n",
        "Short read alignment is the process to figure out where in the genome a sequence is from.\n",
        "\n",
        "Once we identify where each read  aligns, we can identify whether that position has been mutated or not.\n",
        "\n",
        "<img src=\"https://github.com/slt666666/FAO_lecture/blob/main/FAO_2024/Basic_6.png?raw=true\" alt=\"title\" height=\"450px\">\n",
        "<br>\n",
        "<br>\n",
        "\n",
        "Based on alignment results, we can identify where genetic variants (mutations) exist in the genome.\n",
        "\n",
        "<img src=\"https://github.com/slt666666/FAO_lecture/blob/main/FAO_2024/Basic_7.png?raw=true\" alt=\"title\" height=\"150px\">\n",
        "<br>\n",
        "<br>\n",
        "\n",
        "This short read alignment was basically perfomed by softwares/programs.\n",
        "\n",
        "Let's experience this analysis in the next section!"
      ],
      "metadata": {
        "id": "jzFORWzQxplg"
      }
    },
    {
      "cell_type": "markdown",
      "source": [
        "### **Practice of read alignment & identify causal genomic region**\n",
        "\n",
        "In this section, we will practice read alignment under the following situation.\n",
        "\n",
        "- Reference genome of Cultivar A is available\n",
        "- We sequenced short reads for brown leaf cultivar.\n",
        "\n",
        "<br>\n",
        "<img src=\"https://github.com/slt666666/FAO_lecture/blob/main/FAO_2024/Basic_8.png?raw=true\" alt=\"title\" height=\"350px\">\n",
        "<br>"
      ],
      "metadata": {
        "id": "Lk_AOFT_y87I"
      }
    },
    {
      "cell_type": "markdown",
      "source": [
        "First, let's download the sequence data.\n",
        "\n",
        "Please run the below commands to download the data."
      ],
      "metadata": {
        "id": "VWjXz-iruzbP"
      }
    },
    {
      "cell_type": "code",
      "source": [
        "%%bash\n",
        "wget https://raw.githubusercontent.com/slt666666/FAO_lecture/main/FAO_2024/data/get_data.sh 2>/dev/null\n",
        "bash get_data.sh"
      ],
      "metadata": {
        "id": "BD4km7wRy0mi"
      },
      "execution_count": null,
      "outputs": []
    },
    {
      "cell_type": "markdown",
      "source": [
        "After the download, you can check downloaded files in the left folder.\n",
        "\n",
        "```\n",
        "How to check files in your Google Colab server space.\n",
        "1. Click the file icon in upper left.\n",
        "2. The file list showed files in your server space.\n",
        "(3. if there is no \"bulked_sequences.fastq\", please click the third icon from the right\n",
        "```\n",
        "<img src=\"https://github.com/slt666666/FAO_lecture/blob/main/FAO_2024/Basic_0.png?raw=true\" alt=\"title\" height=\"250px\">\n",
        "\n",
        "You can find reference genome (`genome/CultivarA.fasta`) and short reads data (`reads/Mutated_Cultivar_read1/2.fastq`)."
      ],
      "metadata": {
        "id": "UfoZOPAavfKe"
      }
    },
    {
      "cell_type": "markdown",
      "source": [
        "Basically, sequence data is saved as FASTA format or FASTQ format.\n",
        "\n",
        "- **FASTA format**\n",
        "\n",
        "Genome sequence (ex. reference genome) is saved as FASTA format.\n",
        "\n",
        " A sequence in FASTA format begins with a single-line description, followed by lines of sequence data.\n",
        "\n",
        "`example: genome/CultivarA.fasta`\n",
        "\n",
        "- **FASTQ format**\n",
        "\n",
        "An extension of the FASTA format is FASTQ format.\n",
        "\n",
        "This format is designed to handle base quality metrics output from sequencing machines.\n",
        "\n",
        "So, if you use NGS service, basically you can recieve NGS data (short read sequencing data) as **FASTQ format**.\n",
        "\n",
        "`example: reads/Mutated_Cultivar_read.fastq`\n",
        "\n",
        "We'll use these sequence dataset to identify genetic variants.\n",
        "\n",
        "<br>\n",
        "<img src=\"https://github.com/slt666666/FAO_lecture/blob/main/FAO_2024/Basic_9.png?raw=true\" alt=\"title\" height=\"250px\">"
      ],
      "metadata": {
        "id": "-crXOc5-ujio"
      }
    },
    {
      "cell_type": "markdown",
      "source": [
        "#### **Bioinformatics tools**\n",
        "\n",
        "To do the alignment, we need to use several bioinformatics tools.\n",
        "\n",
        "- **Alignment tools**\n",
        "\n",
        "There are many alignment tools available.\n",
        "\n",
        "ex) [BWA](https://github.com/lh3/bwa), [BWA-mem2](https://github.com/bwa-mem2/bwa-mem2), [Bowtie2](https://bowtie-bio.sourceforge.net/bowtie2/index.shtml)\n",
        "\n",
        "Each has its advantages, such as calculation speed and memory consumption.\n",
        "\n",
        "In this practice, we will use **[BWA](https://github.com/lh3/bwa)**.\n",
        "\n",
        "- **Othre tools**\n",
        "\n",
        "After the alignment, we have to manage alignment results.\n",
        "\n",
        "So, we will also use,\n",
        "\n",
        "- **[samtools](https://www.htslib.org/)** : the useful tool to view/edit/convert alignment results.\n",
        "\n",
        "- **[bcftools](https://samtools.github.io/bcftools/bcftools.html)** : the useful tools to manipulate genetic variants information.\n",
        "\n",
        "- **[igv](https://igv.org/)** : the visualization tool for alignment results.\n",
        "\n",
        "Let's install bioinformatics tools using below command!"
      ],
      "metadata": {
        "id": "ijv-LBG_2tSz"
      }
    },
    {
      "cell_type": "code",
      "source": [
        "%%bash\n",
        "\n",
        "# install bwa, samtools, bcftools\n",
        "apt-get install -q bwa\n",
        "apt-get install -q samtools\n",
        "apt-get install -q bcftools\n",
        "\n",
        "## igv-notebook-0.3.1\n",
        "pip install -q igv-notebook==0.3.1\n",
        "wget -q -O modules.py https://raw.githubusercontent.com/slt666666/FAO_lecture/main/FAO_2024/data/modules.py\n",
        "\n",
        "# In this practice, the installation command is tailored to Google Colab.\n",
        "# When you try your own PC, please check the installation method on each tool's website."
      ],
      "metadata": {
        "id": "ddCeIBZk0PKf"
      },
      "execution_count": null,
      "outputs": []
    },
    {
      "cell_type": "markdown",
      "source": [
        "### Alignment\n",
        "\n",
        "Now, we have sequence dataset & bioinformatics tools.\n",
        "\n",
        "Let's try to do the alignment using below commands!\n",
        "\n",
        "Below commands perform alignment by `BWA`."
      ],
      "metadata": {
        "id": "JC0o8jrvOStn"
      }
    },
    {
      "cell_type": "code",
      "source": [
        "%%bash\n",
        "## Alignment: align short reads to reference genome of Cultivar A\n",
        "\n",
        "# prepare genome index\n",
        "bwa index genome/CultivarA.fa\n",
        "# read alignment\n",
        "bwa aln genome/CultivarA.fa reads/Mutated_Cultivar_read1.fastq > read1.sai 2>/dev/null\n",
        "bwa aln genome/CultivarA.fa reads/Mutated_Cultivar_read2.fastq > read2.sai 2>/dev/null\n",
        "bwa sampe genome/CultivarA.fa read1.sai read2.sai reads/Mutated_Cultivar_read1.fastq reads/Mutated_Cultivar_read2.fastq > Mutated_Cultivar.sam; rm -fR read1.sai read2.sai\n"
      ],
      "metadata": {
        "id": "SmNXJtFD7j7l"
      },
      "execution_count": null,
      "outputs": []
    },
    {
      "cell_type": "markdown",
      "source": [
        "After finish the alignment, alignment tool `BWA` generate **SAM (Sequence Alignment and Map) file**.\n",
        "\n",
        "You can see `Mutated_Cultivar.sam` in folder.\n",
        "\n",
        "- **SAM file (Sequence Alignment and Map)**\n",
        "\n",
        "SAM file is the text file that contains the alignment information of various sequences that are aligned against reference sequences.\n",
        "\n",
        "Information: read, aligned position, quality ... etc\n",
        "\n",
        "However, SAM file contains a lot of information, so it is very huge file size.\n",
        "\n",
        "So, **we usually convert SAM file to BAM file**.\n",
        "\n",
        "- **BAM file (Binary Alignment and Map)**\n",
        "\n",
        "BAM (Binary Alignment and Map) contains the same information as SAM files, except they are in binary file format.\n",
        "\n",
        "BAM files are smaller size and more efficient for software to work with than SAM files.\n",
        "\n",
        "We can convert SAM file to BAM file **by `samtools`**.\n",
        "\n",
        "Alignment data is always converted by samtools and stored as BAM files.\n",
        "\n",
        "You can convert `Mutated_Cultivar.sam` to `Mutated_Cultivar.bam` by samtools using below commands."
      ],
      "metadata": {
        "id": "HefwUU3qVDPh"
      }
    },
    {
      "cell_type": "code",
      "source": [
        "%%bash\n",
        "samtools sort -O bam Mutated_Cultivar.sam > Mutated_Cultivar.bam\n",
        "samtools index Mutated_Cultivar.bam"
      ],
      "metadata": {
        "id": "7SSU53WRU937"
      },
      "execution_count": null,
      "outputs": []
    },
    {
      "cell_type": "markdown",
      "source": [
        "<img src=\"https://github.com/slt666666/FAO_lecture/blob/main/FAO_2024/Basic_10.png?raw=true\" alt=\"title\" height=\"250px\">\n",
        "\n",
        "Now, we got SAM/BAM files that contain alignment results, but it's just text/binary information.\n",
        "\n",
        "Then, we will use **`igv`** to visualize this alignment result."
      ],
      "metadata": {
        "id": "M_4nuT2oO5cF"
      }
    },
    {
      "cell_type": "markdown",
      "source": [
        "### Visualization of alignment results\n",
        "\n",
        "- **igv**\n",
        "\n",
        "We usually use [igv](https://igv.org/) to visualize alignment results.\n",
        "\n",
        "<img src=\"https://github.com/slt666666/FAO_lecture/blob/main/FAO_2024/Basic_9.png?raw=true\" alt=\"title\" height=\"200px\">\n",
        "\n",
        "```\n",
        "`igv` is available on various interface, in this practice, we will use `igv` in a Python interface.\n",
        "\n",
        "But most scientists use igv as a Desktop application, it's more user friendly.\n",
        "```\n",
        "Let's visualize our alignment results by below code!"
      ],
      "metadata": {
        "id": "Bm367bM2jlnl"
      }
    },
    {
      "cell_type": "code",
      "source": [
        "## Visualize alignment results\n",
        "## import libraries\n",
        "import igv_notebook\n",
        "from modules import RefTrack, AnnotationTrack, BamTrack\n",
        "igv_notebook.init()\n",
        "# show reference genome\n",
        "ref = RefTrack({ \"fastaPath\":\"genome/CultivarA.fa\", \"indexPath\":\"genome/CultivarA.fa.fai\", \"id\":\"CultivarA\" })\n",
        "# show aligned reads\n",
        "B = BamTrack({ \"name\":\"Mutated_Cultivar\", \"path\":\"Mutated_Cultivar.bam\", \"indexPath\":\"Mutated_Cultivar.bam.bai\", \"viewAsPairs\":True })\n",
        "# visualize\n",
        "b = igv_notebook.Browser(ref)\n",
        "b.load_track(B)"
      ],
      "metadata": {
        "id": "D47FXq6t7nTE"
      },
      "execution_count": null,
      "outputs": []
    },
    {
      "cell_type": "markdown",
      "source": [
        "From this visualization, we can visually identify the mutated genomic region.\n",
        "\n",
        "**In this case, 100bp has mutated from `T` to `C`.**\n",
        "\n",
        "This genetic variant is called a **SNP (Single-nucleotide polymorphism)**.\n",
        "\n",
        "This result suggests this SNP genotype (T → C) may affect leaf color.\n",
        "\n",
        "<img src=\"https://github.com/slt666666/FAO_lecture/blob/main/FAO_2024/Basic_12.png?raw=true\" alt=\"title\" height=\"200px\">\n",
        "\n",
        "In this practice, sample dataset is small genome size, so we can check mutated genomic regions visually.\n",
        "\n",
        "But in reality, we have to check far larger genome size data and several chromosomes, so, it's difficult to check manually.\n",
        "\n",
        "So, we usually extract genetic variant information including SNPs from BAM file by bioinformatics tools; **Variant caller**.\n",
        "\n",
        "- **Variant caller**\n",
        "\n",
        "Variant caller extract genetic variants from BAM files.\n",
        "\n",
        "The famous variant caller is **[bcftools](https://samtools.github.io/bcftools/bcftools.html)** and **[GATK](https://gatk.broadinstitute.org/hc/en-us)**.\n",
        "\n",
        "In this practice, we will use `bcftools`.\n",
        "\n",
        "`bcftools` extract genetic variant information from BAM files and saved as **VCF (variant call format)** file.\n",
        "\n",
        "Let's perform it for now! Below commands identify SNPs from alignment results."
      ],
      "metadata": {
        "id": "UpM7qa62P318"
      }
    },
    {
      "cell_type": "code",
      "source": [
        "%%bash\n",
        "\n",
        "bcftools mpileup -Ob -o Mutated_Cultivar.bcf -f genome/CultivarA.fa Mutated_Cultivar.bam\n",
        "bcftools call -vmO v -o Mutated_Cultivar.vcf Mutated_Cultivar.bcf; rm Mutated_Cultivar.bcf"
      ],
      "metadata": {
        "id": "gxjMWCJ_nIUJ"
      },
      "execution_count": null,
      "outputs": []
    },
    {
      "cell_type": "markdown",
      "source": [
        "You can get `Mutated_Cultivar.vcf file`.\n",
        "\n",
        "In `Mutated_Cultivar.vcf` file, you can see variant information in detail.\n",
        "\n",
        "So you succeeded to obtain the information of genetic mutated position!\n",
        "\n",
        "To summarize the process of alignment & identification of genetic variant using NGS data.\n",
        "\n",
        "1. Prepare reference genome and short read sequencing data for target cultivar.\n",
        "2. Align short reads to reference genome by `bwa` &`samtools`.\n",
        "3. Visualize it & Extract genetic variants by `bcftools`.\n",
        "\n",
        "<img src=\"https://github.com/slt666666/FAO_lecture/blob/main/FAO_2024/Basic_11.png?raw=true\" alt=\"title\" height=\"300px\">\n",
        "\n",
        "\n",
        "```\n",
        "※ Actually, you don't need to fully understand these complicated process/tools.\n",
        "We developped the very easy pipeline of Mut-Map analysis.\n",
        "```"
      ],
      "metadata": {
        "id": "07NxmZU0qW8x"
      }
    },
    {
      "cell_type": "markdown",
      "source": [
        "## **Mut-map analysis**\n",
        "\n",
        "In previous section, we can identify the causal genetic mutation that affect leaf color.\n",
        "\n",
        "<img src=\"https://github.com/slt666666/FAO_lecture/blob/main/FAO_2024/Basic_12.png?raw=true\" alt=\"title\" height=\"200px\">\n",
        "\n",
        "In this case, there is only **1 SNP**, but this is not realistic.\n",
        "\n",
        "Let's look at more real example.\n",
        "\n",
        "<img src=\"https://github.com/slt666666/FAO_lecture/blob/main/FAO_2024/Mutmap_1.png?raw=true\" alt=\"title\" height=\"120px\">\n",
        "\n",
        "The below commands show the alignment results of more real situation."
      ],
      "metadata": {
        "id": "53a2SQG8z9u3"
      }
    },
    {
      "cell_type": "code",
      "source": [
        "%%bash\n",
        "# prepare genome index\n",
        "bwa index genome/CultivarA.fa\n",
        "# read alignment\n",
        "bwa aln genome/CultivarA.fa reads/Mutated_Cultivar2_read1.fastq > read1.sai 2>/dev/null\n",
        "bwa aln genome/CultivarA.fa reads/Mutated_Cultivar2_read2.fastq > read2.sai 2>/dev/null\n",
        "bwa sampe genome/CultivarA.fa read1.sai read2.sai reads/Mutated_Cultivar2_read1.fastq reads/Mutated_Cultivar2_read2.fastq > Mutated_Cultivar2.sam; rm -fR read1.sai read2.sai\n",
        "# convert sam to bam\n",
        "samtools sort -O bam Mutated_Cultivar2.sam > Mutated_Cultivar2.bam\n",
        "samtools index Mutated_Cultivar2.bam"
      ],
      "metadata": {
        "id": "Ge5mAio3S0MY"
      },
      "execution_count": null,
      "outputs": []
    },
    {
      "cell_type": "code",
      "source": [
        "## Visualize alignment results\n",
        "## import libraries\n",
        "import igv_notebook\n",
        "from modules import RefTrack, AnnotationTrack, BamTrack\n",
        "igv_notebook.init()\n",
        "# show reference genome\n",
        "ref = RefTrack({ \"fastaPath\":\"genome/CultivarA.fa\", \"indexPath\":\"genome/CultivarA.fa.fai\", \"id\":\"CultivarA\" })\n",
        "# show aligned reads\n",
        "B = BamTrack({ \"name\":\"Mutated_Cultivar2\", \"path\":\"Mutated_Cultivar2.bam\", \"indexPath\":\"Mutated_Cultivar2.bam.bai\", \"viewAsPairs\":True })\n",
        "# visualize\n",
        "b = igv_notebook.Browser(ref)\n",
        "b.load_track(B)"
      ],
      "metadata": {
        "id": "cr02hz25Su5M"
      },
      "execution_count": null,
      "outputs": []
    },
    {
      "cell_type": "code",
      "source": [
        "%%bash\n",
        "# extract genetic variants\n",
        "bcftools mpileup -Ob -o Mutated_Cultivar2.bcf -f genome/CultivarA.fa Mutated_Cultivar2.bam\n",
        "bcftools call -vmO v -o Mutated_Cultivar2.vcf Mutated_Cultivar2.bcf; rm Mutated_Cultivar2.bcf"
      ],
      "metadata": {
        "id": "e9hKOYHhcO-S"
      },
      "execution_count": null,
      "outputs": []
    },
    {
      "cell_type": "markdown",
      "source": [
        "In this case, there are many SNPs.\n",
        "\n",
        "We can't identify which genetic variant is associated with traits.\n",
        "\n",
        "<img src=\"https://github.com/slt666666/FAO_lecture/blob/main/FAO_2024/Mutmap_2.png?raw=true\" alt=\"title\" height=\"200px\">\n",
        "\n",
        " Therefore, we should consider the approach to identify causal mutation from many genetic variants."
      ],
      "metadata": {
        "id": "t0wb1AJlTdmp"
      }
    },
    {
      "cell_type": "markdown",
      "source": [
        "### **Segregating population is required (ex. QTL analysis)**\n",
        "\n",
        "To identify the causal genetic variant from many SNPs, we have to generate segregating population.\n",
        "\n",
        "If F2 population (from green leaf x black leaf) showed segregating phenotype,\n",
        "\n",
        "we can identigy causal genetic variant by comparing genome sequences of each sample of F2 population (QTL analysis).\n",
        "\n",
        "<img src=\"https://github.com/slt666666/FAO_lecture/blob/main/FAO_2024/Mutmap_3.png?raw=true\" alt=\"title\" height=\"420px\">\n",
        "\n",
        "It looks very easy. Just make F2 and sequencing it, that's it!\n",
        "\n",
        "However, this approach required sequencing data for each sample of F2 population.\n",
        "\n",
        "In addition, basically, the number of genetic variants between 2 cultivars will be thousands to tens of thousands.\n",
        "\n",
        "It requires huge F2 population size such as tens to hundreds, and sequencing cost also becomes extremely high...\n",
        "\n",
        "<img src=\"https://github.com/slt666666/FAO_lecture/blob/main/FAO_2024/Mutmap_4.png?raw=true\" alt=\"title\" height=\"350px\">\n",
        "\n",
        "So, we developped **Mut-map analysis** that identify causal genetic variants with **low sequencing cost and high identification power**.\n",
        "\n"
      ],
      "metadata": {
        "id": "XUKrMCl811Ul"
      }
    },
    {
      "cell_type": "markdown",
      "source": [
        "### **Mutmap is based on bulked sequencing**\n",
        "\n",
        "As you can see here, it was considered that all samples with mutated traits have the causal mutation.\n",
        "\n",
        "<img src=\"https://github.com/slt666666/FAO_lecture/blob/main/FAO_2024/Mutmap_5.png?raw=true\" alt=\"title\" height=\"270px\">\n",
        "\n",
        "Therefore, causal genetic variants are conserved in F2 progenies with mutated traits.\n",
        "\n",
        "So, if we extract DNA from multiple progenies with mutated traits and mixed them, causal mutations are still conserved.\n",
        "\n",
        "The process of mixing DNA from several samples and then sequencing is called **bulk sequencing**.\n",
        "\n",
        "Using bulk sequencing instead of sequencing each sample, we just need **1 time sequencing** to identify causal mutations.\n",
        "\n",
        "<img src=\"https://github.com/slt666666/FAO_lecture/blob/main/FAO_2024/Mutmap_6.png?raw=true\" alt=\"title\" height=\"300px\">\n",
        "\n",
        "\n",
        "Mut-map is a method to identify causal mutations based on this bulk sequencing.\n",
        "\n",
        "**Mut-map analysis try to identify SNPs that are mutated in the most samples with mutated traits by bulk sequencing.**\n",
        "\n",
        "So, let's try to perform Mut-map analysis step by step!"
      ],
      "metadata": {
        "id": "dD9jrioV2ceU"
      }
    },
    {
      "cell_type": "markdown",
      "source": [
        "### **Practice of Mut-map analysis**\n",
        "\n",
        "In this section, we will practice Mut-map analysis under the following situation.\n",
        "\n",
        "- Reference genome of Cultivar B is available.\n",
        "- Mutated cutivar showed black leaf color and there are many SNPs.\n",
        "- We generated 100 F2 progeny by crossing Cultivar B and mutated cultivar.\n",
        "\n",
        "**Purpose: Identify genetic variants that are associated with leaf color using Mut-map.**\n",
        "\n",
        "<img src=\"https://github.com/slt666666/FAO_lecture/blob/main/FAO_2024/Mutmap_7.png?raw=true\" alt=\"title\" height=\"450px\">"
      ],
      "metadata": {
        "id": "l2MOLu2h9JK5"
      }
    },
    {
      "cell_type": "markdown",
      "source": [
        "#### **Bulked DNA sequencing**\n",
        "\n",
        "In Mut-map analysis, we want to identify SNPs that are mutated in the most F2 progenies with mutated traits.\n",
        "\n",
        "So, first, we extract DNA from F2 progenies with mutated traits and perform bulked sequencing.\n",
        "\n",
        "<img src=\"https://github.com/slt666666/FAO_lecture/blob/main/FAO_2024/Mutmap_8.png?raw=true\" alt=\"title\" height=\"200px\">\n",
        "\n",
        "This bulked sequencing data is `reads/bulked_read.fastq`.\n",
        "\n",
        "This sequencing data is derived from multiple samples **with mutated traits**.\n",
        "\n",
        "So, if we perform alignment using these sequences, we can identify causal muation.\n",
        "\n",
        "<img src=\"https://github.com/slt666666/FAO_lecture/blob/main/FAO_2024/Mutmap_15.png?raw=true\" alt=\"title\" height=\"160px\">\n",
        "\n",
        "Let's see what kind of alignment results we get when we use bulked sequences.\n",
        "\n"
      ],
      "metadata": {
        "id": "S6wqagbl9tAq"
      }
    },
    {
      "cell_type": "code",
      "source": [
        "%%bash\n",
        "# alignment bulked sequencing data to referece genome\n",
        "bwa index genome/CultivarB.fa\n",
        "bwa aln genome/CultivarB.fa reads/bulked_read1.fastq > bulked_read1.sai 2>/dev/null\n",
        "bwa aln genome/CultivarB.fa reads/bulked_read2.fastq > bulked_read2.sai 2>/dev/null\n",
        "bwa sampe genome/CultivarB.fa bulked_read1.sai bulked_read2.sai reads/bulked_read1.fastq reads/bulked_read2.fastq > Black_Cultivars.sam; rm -fR bulked_read1.sai bulked_read2.sai\n",
        "\n",
        "samtools sort -O bam Black_Cultivars.sam > Black_Cultivars.bam\n",
        "samtools index Black_Cultivars.bam\n",
        "\n",
        "bcftools mpileup -Ob -o Black_Cultivars.bcf -f genome/CultivarB.fa --annotate FORMAT/AD Black_Cultivars.bam\n",
        "bcftools call -vmO v -o Black_Cultivars.vcf Black_Cultivars.bcf; rm Black_Cultivars.bcf"
      ],
      "metadata": {
        "id": "vMTA2858GiJ8"
      },
      "execution_count": null,
      "outputs": []
    },
    {
      "cell_type": "code",
      "source": [
        "## Visualize alignment results\n",
        "import igv_notebook\n",
        "from modules import RefTrack, AnnotationTrack, BamTrack\n",
        "igv_notebook.init()\n",
        "# show reference genome\n",
        "ref = RefTrack({ \"fastaPath\":\"genome/CultivarB.fa\", \"indexPath\":\"genome/CultivarB.fa.fai\", \"id\":\"CultivarB\" })\n",
        "# show aligned reads\n",
        "B = BamTrack({ \"name\":\"Black_Cultivars\", \"path\":\"Black_Cultivars.bam\", \"indexPath\":\"Black_Cultivars.bam.bai\", \"viewAsPairs\":True })\n",
        "# visualize\n",
        "b = igv_notebook.Browser(ref)\n",
        "b.load_track(B)"
      ],
      "metadata": {
        "id": "EMZby2kbJplK"
      },
      "execution_count": null,
      "outputs": []
    },
    {
      "cell_type": "markdown",
      "source": [
        "You can see a lot of SNPs across whole genome region.\n",
        "\n",
        "In case of the alignment of bulked sequencing, reads are derived from multiple samples.\n",
        "\n",
        "So, basically, several reads are from F2 progenies with unmutated SNP and several reads are from  F2 progenies with mutated SNP.\n",
        "\n",
        "<img src=\"https://github.com/slt666666/FAO_lecture/blob/main/FAO_2024/Mutmap_9.png?raw=true\" alt=\"title\" height=\"300px\">\n",
        "\n",
        "Important point is, we selected samples with mutated trait (black leaf) for bulked sequencing.\n",
        "\n",
        "So, all selected samples should have causal genetic variants. In other words, some SNP should be mutated in all samples.\n",
        "\n",
        "<img src=\"https://github.com/slt666666/FAO_lecture/blob/main/FAO_2024/Mutmap_10.png?raw=true\" alt=\"title\" height=\"350px\">\n",
        "\n",
        "\n"
      ],
      "metadata": {
        "id": "Syne0ha1E-RV"
      }
    },
    {
      "cell_type": "markdown",
      "source": [
        "#### **SNP index**\n",
        "\n",
        "To find this kind of SNPs, we calculate **SNP index** value.\n",
        "\n",
        "SNP index showed the ratio of the mutant base for each SNP position in the alignment results.\n",
        "\n",
        "If SNP index is close to 1, almost all bulked DNA reads have different genotype from reference at this position.\n",
        "\n",
        "In other words, almost all samples with mutated traits have this SNP with different genotype.\n",
        "\n",
        "So, SNP with SNP index = 1 might be causative genetic variant.\n",
        "\n",
        "\n",
        "<img src=\"https://github.com/slt666666/FAO_lecture/blob/main/FAO_2024/Mutmap_11.png?raw=true\" alt=\"title\" height=\"350px\">\n",
        "\n",
        "SNP index value can be calculated from VCF file (`Black_Cultivar.vcf`).\n",
        "\n",
        "Below code calculates SNP index from VCF file.\n"
      ],
      "metadata": {
        "id": "6imHy2DpgrHf"
      }
    },
    {
      "cell_type": "code",
      "source": [
        "from modules import calc_SNP_index\n",
        "SNP_index = calc_SNP_index(\"Black_Cultivars.vcf\")\n",
        "SNP_index"
      ],
      "metadata": {
        "id": "5ebw5MDvGMMh"
      },
      "execution_count": null,
      "outputs": []
    },
    {
      "cell_type": "markdown",
      "source": [
        "It's not so difficult to manually check SNP index if the number of SNPs is few hundreds.\n",
        "\n",
        "But if you find more SNPs like thousands to millions...etc, it is better to visualize it with a graph.\n",
        "\n",
        "Let's try to visualize SNP index using below code."
      ],
      "metadata": {
        "id": "GgRZ4BzuqnvH"
      }
    },
    {
      "cell_type": "code",
      "source": [
        "from modules import visualize_SNP_index\n",
        "visualize_SNP_index(SNP_index)"
      ],
      "metadata": {
        "id": "AGMX1ArPOtLI"
      },
      "execution_count": null,
      "outputs": []
    },
    {
      "cell_type": "markdown",
      "source": [
        "You can see SNP index across whole genome.\n",
        "\n",
        "Basically, genetic variants randomly mixed by recombinations in F2 population.\n",
        "\n",
        "So, SNP index is usually aroud 0.5 (red line).\n",
        "\n",
        "On the other hand, we selected F2 progenies with mutated traits from F2 population.\n",
        "\n",
        "So, causal SNP genotype is conserved (= SNP index is close to 1).\n",
        "\n",
        "<img src=\"https://github.com/slt666666/FAO_lecture/blob/main/FAO_2024/Mutmap_10.png?raw=true\" alt=\"title\" height=\"250px\">\n",
        "\n",
        "In this case, **a SNP located around 4,300 bp showed SNP index = 1 and this SNP might be a causal genetic variant**.\n",
        "\n",
        "In addition, SNPs located in close position to a causal SNP also show high SNP index due to the linkage.\n",
        "\n",
        "<img src=\"https://github.com/slt666666/FAO_lecture/blob/main/FAO_2024/Mutmap_12.png?raw=true\" alt=\"title\" height=\"250px\">\n",
        "\n",
        "<br>\n",
        "\n",
        "<img src=\"https://github.com/slt666666/FAO_lecture/blob/main/FAO_2024/Mutmap_13.png?raw=true\" alt=\"title\" height=\"150px\">\n",
        "\n",
        "<br>\n",
        "\n",
        "**This is the process of Mut-map analysis!**"
      ],
      "metadata": {
        "id": "osRcO5DJxtFL"
      }
    },
    {
      "cell_type": "markdown",
      "source": [
        "## **Review of Mut-Map analysis**\n",
        "\n",
        "Let's take a look at whole process of Mut-map analysis.\n",
        "\n",
        "MutMap analysis is one the methods to identify the genetic variant which is associate with the phenotype. (like QTL mapping.)\n",
        "\n",
        "To perform Mut-map analysis...\n",
        "\n",
        "1. Generate a segregating population like F2 population by crossing the mutated cultivar and the original cultivar.\n",
        "  - By creating an F2 population, we obtain a large number of individuals with shuffled genome.\n",
        "  - Each mutation introduced to the genome has about a 50% chance of being transmitted to each F2 individual.\n",
        "1. Collect DNA from the mutant individuals.\n",
        "  - The F2 individuals with the mutant trait should have common causal genetic variants in the genome.\n",
        "1. Sequencing collected DNA (bulked sequencing).\n",
        "1. Alignment of bulked sequences to the reference genome. You can get information like,\n",
        "  - The position where the mutation\n",
        "  - The number of reference and mutant bases in the bulked sequence\n",
        "1. Calculate the percentage of mutant bases in the bulked sequence (**SNP-index**) across the genome.\n",
        "  - SNP with high SNP index means almost all samples with mutated trait have this SNP with different genotype from reference (= causal genetic variant).\n",
        "\n",
        "<img src=\"https://github.com/slt666666/FAO_lecture/blob/main/FAO_2024/Mutmap_14.png?raw=true\" alt=\"title\" height=\"500px\">\n"
      ],
      "metadata": {
        "id": "ISbXd9Yh93Tv"
      }
    },
    {
      "cell_type": "markdown",
      "source": [
        "# Play with simulation!\n",
        "\n",
        "In previous dataset:\n",
        "  - the number of F2 progeny: 100\n",
        "  - the number of sequencing reads: 500\n",
        "\n",
        "**You can simulate changing these numbers by below code.**\n",
        "\n",
        "Please try to check what will be happen in different situation for MutMap analysis.\n",
        "\n",
        "For example, if we don't have enough money to perform sequencing (less number of reads)...what kind of results will we get?"
      ],
      "metadata": {
        "id": "miYIj1If9soJ"
      }
    },
    {
      "cell_type": "code",
      "source": [
        "from modules import simulate_fastq\n",
        "simulate_fastq(100, 500) # first number is number of progenies, second number if number of sequecning reads"
      ],
      "metadata": {
        "id": "jv8KLVmn-U1C"
      },
      "execution_count": null,
      "outputs": []
    },
    {
      "cell_type": "code",
      "source": [
        "%%bash\n",
        "# alignment simulation sequencing data to referece genome\n",
        "bwa index genome/CultivarB.fa\n",
        "bwa aln genome/CultivarB.fa simulation/bulked_1.fastq > bulked_read1.sai 2>/dev/null\n",
        "bwa aln genome/CultivarB.fa simulation/bulked_2.fastq > bulked_read2.sai 2>/dev/null\n",
        "bwa sampe genome/CultivarB.fa bulked_read1.sai bulked_read2.sai simulation/bulked_1.fastq simulation/bulked_2.fastq > Simulation.sam\n",
        "samtools sort -O bam Simulation.sam > Simulation.bam\n",
        "samtools index Simulation.bam\n",
        "rm -fR bulked_read1.sai bulked_read2.sai\n",
        "\n",
        "bcftools mpileup -Ob -o Simulation.bcf -f genome/CultivarB.fa --annotate FORMAT/AD Simulation.bam\n",
        "bcftools call -vmO v -o Simulation.vcf Simulation.bcf"
      ],
      "metadata": {
        "id": "Op0-MYM2KxLp"
      },
      "execution_count": null,
      "outputs": []
    },
    {
      "cell_type": "code",
      "source": [
        "## Visualize alignment results\n",
        "import igv_notebook\n",
        "from modules import RefTrack, AnnotationTrack, BamTrack\n",
        "igv_notebook.init()\n",
        "# show reference genome\n",
        "ref = RefTrack({ \"fastaPath\":\"genome/CultivarB.fa\", \"indexPath\":\"genome/CultivarB.fa.fai\", \"id\":\"CultivarB\" })\n",
        "# show aligned reads\n",
        "B = BamTrack({ \"name\":\"Simulation\", \"path\":\"Simulation.bam\", \"indexPath\":\"Simulation.bam.bai\", \"viewAsPairs\":True })\n",
        "# visualize\n",
        "b = igv_notebook.Browser(ref)\n",
        "b.load_track(B)"
      ],
      "metadata": {
        "id": "P0YKrvmUK4KM"
      },
      "execution_count": null,
      "outputs": []
    },
    {
      "cell_type": "code",
      "source": [
        "from modules import calc_SNP_index, visualize_SNP_index\n",
        "SNP_index = calc_SNP_index(\"Simulation.vcf\")\n",
        "visualize_SNP_index(SNP_index)"
      ],
      "metadata": {
        "id": "BOD8Tw48K4vS"
      },
      "execution_count": null,
      "outputs": []
    },
    {
      "cell_type": "markdown",
      "source": [
        "Small number of segregating population or less number of sequencing reads lead to false positives."
      ],
      "metadata": {
        "id": "wUAel4Y3Nt23"
      }
    },
    {
      "cell_type": "markdown",
      "source": [
        "# Introduction of MutMap pipeline\n",
        "\n",
        "In this practice session, we perform Mut-map analysis step by step using bioinformatics tools like `bwa, samtools, bcftools...etc` and our own scripts.\n",
        "\n",
        "Our laboratory & team developped the very simple pipeline to perform MutMap.\n",
        "\n",
        "<img src=\"https://github.com/YuSugihara/MutMap/blob/master/images/1_logo.png?raw=true\" alt=\"title\" height=\"100px\">\n",
        "\n",
        "(https://github.com/YuSugihara/MutMap)\n",
        "\n",
        "This pipeline is very simple to use. Required input data is just sequencing data (= fasta and fastq files).\n",
        "\n",
        "And you just install pipeline & use below command. That's it !\n",
        "\n",
        "```\n",
        "# command\n",
        "mutmap -r reference_sequences.fasta -c reference.fastq -b bulked_sequences.fastq -n 20 -o output_name\n",
        "```\n",
        "\n",
        "Then, you can get data files that contains SNP positions & SNP-index values & graph that visualize it.\n",
        "\n",
        "So, if you are interested in perform Mut-map analysis, this pipeline is one option."
      ],
      "metadata": {
        "id": "xJevQ0MeT8-4"
      }
    },
    {
      "cell_type": "markdown",
      "source": [
        "## **ex) The result of Mut-Map analysis using published data**\n",
        "\n",
        "In this part, we checked published data [(Abe et al., 2012)](https://www.nature.com/articles/nbt.2095) to see the real result of SNP index."
      ],
      "metadata": {
        "id": "ZbisCkqHNt8C"
      }
    },
    {
      "cell_type": "markdown",
      "source": [
        "### Summary\n",
        "\n",
        "We used rice cultivar \"Hitomebore\" as a reference.\n",
        "\n",
        "\"Hit1917-pl1\" cultivar was generated by mutagenesis and showed lightgreen leaf color (low chlorophyll content).\n",
        "\n",
        "Hit1917-pl1 has almost 1500 SNPs that are different from reference genotype.\n",
        "\n",
        "So, we performed Mut-map analysis to identify causal genetic variants that are associated with leaf color.\n",
        "\n",
        "<img src=\"https://github.com/slt666666/FAO_lecture/blob/main/FAO_2024/Publish_1.png?raw=true\" alt=\"title\" height=\"500px\">\n",
        "\n"
      ],
      "metadata": {
        "id": "KF6GfH3MNxlq"
      }
    },
    {
      "cell_type": "markdown",
      "source": [
        "### Results\n",
        "\n",
        "In this session, we used results of SNP index in the chromosome10.\n",
        "\n",
        "To see the real results of Mut-map, let's visualize SNP index in the chromosome 10 using below code."
      ],
      "metadata": {
        "id": "e2Pav8mkvHcw"
      }
    },
    {
      "cell_type": "code",
      "source": [
        "import pandas as pd\n",
        "from modules import visualize_SNP_index\n",
        "\n",
        "!wget -O published_Mutmap.csv https://raw.githubusercontent.com/slt666666/FAO_lecture/main/FAO_2024/data/published_Mutmap.csv 2>/dev/null\n",
        "SNP_index = pd.read_csv(\"published_Mutmap.csv\")\n",
        "visualize_SNP_index(SNP_index)"
      ],
      "metadata": {
        "id": "ncyXyw6CSbni"
      },
      "execution_count": null,
      "outputs": []
    },
    {
      "cell_type": "markdown",
      "source": [
        "As a result, it looks there are several SNPs with SNP index = 1.\n",
        "\n",
        "**Does it mean there are several genes that affect leaf color ?**\n",
        "\n",
        "**It's one possibility, but maybe Not.**\n",
        "\n",
        "Some of them might be occurred by low depth, sequence error...etc (they are false positives!) that we experienced in simulations.\n",
        "\n",
        "As we saw before, more sequencing is one easy way to solve this problem.\n",
        "\n",
        "But, before take further costs on the sequencing, additional analysis can be performed to reduce false positives.\n",
        "\n",
        "**Sliding window** analysis is one of the approaches to reduce these false positives.\n",
        "\n",
        "We will try to do sliding window analysis in the next **QTL-seq** practice session!\n",
        "\n",
        "(QTL-seq analysis is very similar approach as Mut-map.)"
      ],
      "metadata": {
        "id": "I3fT-bcDWsEx"
      }
    },
    {
      "cell_type": "markdown",
      "metadata": {
        "id": "PFTQIMDGuYAT"
      },
      "source": [
        "---\n",
        "## Summary\n",
        "\n",
        "In this practice session, we demonstrate **Mut-map** analysis using simulation data to understand the process of MutMap analysis.\n",
        "\n",
        "Also, we check the published data of Mut-map analysis to check real result of Mut-map analysis.\n",
        "   \n",
        "And if you want to conduct Mut-map analysis, the pipeline that our group developped is prepared.\n",
        "(https://github.com/YuSugihara/MutMap)\n",
        "   \n",
        "Next session, we'll demonstrate **QTL-seq** analysis & **Sliding window** analysis for Mut-map & QTL-seq.\n"
      ]
    },
    {
      "cell_type": "code",
      "source": [],
      "metadata": {
        "id": "oUXQUv6r6mb2"
      },
      "execution_count": null,
      "outputs": []
    }
  ]
}